{
 "cells": [
  {
   "cell_type": "markdown",
   "id": "a8fc98f9",
   "metadata": {},
   "source": [
    "# spam email classification"
   ]
  },
  {
   "cell_type": "markdown",
   "id": "f3019515",
   "metadata": {},
   "source": [
    "import libraries"
   ]
  },
  {
   "cell_type": "code",
   "execution_count": 2,
   "id": "7034b098",
   "metadata": {},
   "outputs": [],
   "source": [
    "import pandas as pd\n",
    "from sklearn.feature_extraction.text import CountVectorizer\n",
    "from sklearn.naive_bayes import MultinomialNB, GaussianNB\n",
    "from sklearn import svm\n",
    "from sklearn.model_selection import GridSearchCV"
   ]
  },
  {
   "cell_type": "markdown",
   "id": "0b7fd81d",
   "metadata": {},
   "source": [
    "load dataset"
   ]
  },
  {
   "cell_type": "code",
   "execution_count": 3,
   "id": "a6148d4a",
   "metadata": {},
   "outputs": [
    {
     "name": "stdout",
     "output_type": "stream",
     "text": [
      "  Label                                          EmailText\n",
      "0   ham  Go until jurong point, crazy.. Available only ...\n",
      "1   ham                      Ok lar... Joking wif u oni...\n",
      "2  spam  Free entry in 2 a wkly comp to win FA Cup fina...\n",
      "3   ham  U dun say so early hor... U c already then say...\n",
      "4   ham  Nah I don't think he goes to usf, he lives aro...\n"
     ]
    }
   ],
   "source": [
    "dataframe = pd.read_csv(\"spam.csv\")\n",
    "print(dataframe.head())"
   ]
  },
  {
   "cell_type": "markdown",
   "id": "ba6085d9",
   "metadata": {},
   "source": [
    "split into test train"
   ]
  },
  {
   "cell_type": "code",
   "execution_count": 4,
   "id": "8bb0bc50",
   "metadata": {},
   "outputs": [],
   "source": [
    "x = dataframe[\"EmailText\"]\n",
    "y = dataframe[\"Label\"]\n",
    "xtrain, ytrain = x[0:4457], y[0:4457]\n",
    "xtest, ytest = x[4457:], y[4457:]"
   ]
  },
  {
   "cell_type": "markdown",
   "id": "b132a20c",
   "metadata": {},
   "source": [
    "extract features"
   ]
  },
  {
   "cell_type": "code",
   "execution_count": 5,
   "id": "f37b7bfb",
   "metadata": {},
   "outputs": [],
   "source": [
    "cv = CountVectorizer()\n",
    "features = cv.fit_transform(xtrain)"
   ]
  },
  {
   "cell_type": "markdown",
   "id": "1876863f",
   "metadata": {},
   "source": [
    "build model - SVM"
   ]
  },
  {
   "cell_type": "code",
   "execution_count": 6,
   "id": "cc37cf5c",
   "metadata": {},
   "outputs": [
    {
     "data": {
      "text/plain": [
       "SVC()"
      ]
     },
     "execution_count": 6,
     "metadata": {},
     "output_type": "execute_result"
    }
   ],
   "source": [
    "model = svm.SVC()\n",
    "model.fit(features, ytrain)"
   ]
  },
  {
   "cell_type": "markdown",
   "id": "1fc47542",
   "metadata": {},
   "source": [
    "test accuracy"
   ]
  },
  {
   "cell_type": "code",
   "execution_count": 7,
   "id": "5b908aa5",
   "metadata": {},
   "outputs": [
    {
     "name": "stdout",
     "output_type": "stream",
     "text": [
      "accuracy 98.56502242152466\n"
     ]
    }
   ],
   "source": [
    "featurestest = cv.transform(xtest)\n",
    "print(\"accuracy\", model.score(featurestest, ytest)*100)"
   ]
  },
  {
   "cell_type": "markdown",
   "id": "4c8212d2",
   "metadata": {},
   "source": [
    "model tuning - required only if obtained accuracy less"
   ]
  },
  {
   "cell_type": "code",
   "execution_count": 8,
   "id": "77253105",
   "metadata": {},
   "outputs": [
    {
     "name": "stdout",
     "output_type": "stream",
     "text": [
      "{'C': 100, 'gamma': 0.001, 'kernel': 'rbf'}\n",
      "accuracy 98.7443946188341\n"
     ]
    }
   ],
   "source": [
    "tunedparameters = {'kernel' : ['linear', 'rbf'], 'gamma': [1e-3, 1e-4], 'C' : [1, 10, 100, 1000]}\n",
    "model = GridSearchCV(svm.SVC(), tunedparameters)\n",
    "model.fit(features, ytrain)\n",
    "print(model.best_params_)\n",
    "featurestest = cv.transform(xtest)\n",
    "print(\"accuracy\", model.score(featurestest, ytest)*100) #new accuracy"
   ]
  },
  {
   "cell_type": "code",
   "execution_count": null,
   "id": "34b6472f",
   "metadata": {},
   "outputs": [],
   "source": []
  }
 ],
 "metadata": {
  "kernelspec": {
   "display_name": "Python 3 (ipykernel)",
   "language": "python",
   "name": "python3"
  },
  "language_info": {
   "codemirror_mode": {
    "name": "ipython",
    "version": 3
   },
   "file_extension": ".py",
   "mimetype": "text/x-python",
   "name": "python",
   "nbconvert_exporter": "python",
   "pygments_lexer": "ipython3",
   "version": "3.7.15"
  }
 },
 "nbformat": 4,
 "nbformat_minor": 5
}
